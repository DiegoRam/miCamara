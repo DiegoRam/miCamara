{
 "cells": [
  {
   "cell_type": "markdown",
   "metadata": {},
   "source": [
    "# Vamos a meter todo junto"
   ]
  },
  {
   "cell_type": "markdown",
   "metadata": {},
   "source": [
    "* Las funciones nos vinieron al pelo"
   ]
  },
  {
   "cell_type": "code",
   "execution_count": 1,
   "metadata": {},
   "outputs": [],
   "source": [
    "posicion_maxima = 0.8\n",
    "posicion_minima = -0.8"
   ]
  },
  {
   "cell_type": "code",
   "execution_count": 2,
   "metadata": {},
   "outputs": [],
   "source": [
    "def esquina_inferior_izquierda(servoH, servoV):\n",
    "    servoH.value = posicion_minima\n",
    "    # aca tranquilamente podria usar servo.min() pero dada la construccion de mi robot el angulo queda muy RARO\n",
    "    servoV.value = posicion_minima"
   ]
  },
  {
   "cell_type": "code",
   "execution_count": 3,
   "metadata": {},
   "outputs": [],
   "source": [
    "def esquina_superior_izquierda(servoH, servoV):\n",
    "    servoH.value = posicion_minima\n",
    "    servoV.value = posicion_maxima"
   ]
  },
  {
   "cell_type": "code",
   "execution_count": 4,
   "metadata": {},
   "outputs": [],
   "source": [
    "def esquina_superior_derecha(servoH, servoV):\n",
    "    servoH.value = posicion_maxima\n",
    "    servoV.value = posicion_minima"
   ]
  },
  {
   "cell_type": "code",
   "execution_count": 5,
   "metadata": {},
   "outputs": [],
   "source": [
    "def esquina_inferior_derecha(servoH, servoV):\n",
    "    servoH.value = posicion_maxima\n",
    "    servoV.value = posicion_maxima"
   ]
  },
  {
   "cell_type": "code",
   "execution_count": 6,
   "metadata": {},
   "outputs": [],
   "source": [
    "from gpiozero import Servo, Button\n",
    "from time import sleep\n",
    "import random"
   ]
  },
  {
   "cell_type": "code",
   "execution_count": 7,
   "metadata": {},
   "outputs": [],
   "source": [
    "servoH = Servo(17)\n",
    "servoV = Servo(27)\n",
    "button = Button(2)"
   ]
  },
  {
   "cell_type": "code",
   "execution_count": 8,
   "metadata": {},
   "outputs": [],
   "source": [
    "def cambiar_posicion():\n",
    "    posicion_random = random.randint(0,4)\n",
    "    if(posicion_random == 0):\n",
    "        esquina_inferior_izquierda(servoH, servoV)\n",
    "    elif(posicion_random == 1):\n",
    "        esquina_superior_izquierda(servoH, servoV)\n",
    "    elif(posicion_random == 2):\n",
    "        esquina_superior_derecha(servoH, servoV)\n",
    "    elif(posicion_random == 3):\n",
    "        esquina_inferior_derecha(servoH, servoV)"
   ]
  },
  {
   "cell_type": "code",
   "execution_count": 9,
   "metadata": {},
   "outputs": [],
   "source": [
    "button.when_pressed = cambiar_posicion"
   ]
  },
  {
   "cell_type": "code",
   "execution_count": null,
   "metadata": {},
   "outputs": [],
   "source": []
  }
 ],
 "metadata": {
  "kernelspec": {
   "display_name": "Python 3",
   "language": "python",
   "name": "python3"
  },
  "language_info": {
   "codemirror_mode": {
    "name": "ipython",
    "version": 3
   },
   "file_extension": ".py",
   "mimetype": "text/x-python",
   "name": "python",
   "nbconvert_exporter": "python",
   "pygments_lexer": "ipython3",
   "version": "3.5.4"
  }
 },
 "nbformat": 4,
 "nbformat_minor": 2
}
